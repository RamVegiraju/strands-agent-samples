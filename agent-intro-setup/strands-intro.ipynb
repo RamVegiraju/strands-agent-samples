{
 "cells": [
  {
   "cell_type": "markdown",
   "id": "3cdb274c-c35d-4931-bbce-1ed39394674f",
   "metadata": {},
   "source": [
    "# Strands Agents Introduction Notebook\n",
    "In this notebook we explore the open source [Strands-Agents framework](https://github.com/strands-agents/sdk-python) provided by Amazon. With Strands you can easily integrate with Amazon Bedrock and also other model providers in an agnostic format. Via Strands there's built-in tools, easy integration with Bedrock's large model family, and also a developer friendly multi-agentic setup. \n",
    "\n",
    "If you're trying to use Bedrock specifically you can also work with the managed Bedrock Agents service which is more tightly coupled with other AWS services such as Lambda, OpenSearch, and more. We'll also explore this option in a future series. \n",
    "\n",
    "In the mean-time in this notebook we'll explore how to setup a Strands Agent integrate it with both a built-in and custom tool that you can define to get started with the framework."
   ]
  },
  {
   "cell_type": "markdown",
   "id": "eaf169ef-8226-49b8-a3c1-7a4cbd56cc27",
   "metadata": {},
   "source": [
    "## Setup\n",
    "Setup is simple, just an open-source Python framework that we install, we also install a package with the built-in tools provided by Strands, these include AWS integration, shell integration, math tools, image/video processing, and more."
   ]
  },
  {
   "cell_type": "code",
   "execution_count": null,
   "id": "8a07156f-e02c-4db2-a38f-e88d66f3eea1",
   "metadata": {},
   "outputs": [],
   "source": [
    "!pip install strands-agents strands-agents-tools transformers torch"
   ]
  },
  {
   "cell_type": "code",
   "execution_count": null,
   "id": "c00fefdc-9c38-4f8f-9515-c79f9399f746",
   "metadata": {},
   "outputs": [],
   "source": [
    "from strands import Agent\n",
    "from strands.models import BedrockModel #select appropriate Model Provider\n",
    "\n",
    "# Model Provider\n",
    "model = BedrockModel(\n",
    "    model_id=\"us.anthropic.claude-3-7-sonnet-20250219-v1:0\",\n",
    "    region_name=\"us-east-1\",\n",
    "    # temperature=0.9,\n",
    "    # max_tokens=2048,\n",
    ")"
   ]
  },
  {
   "cell_type": "markdown",
   "id": "b3ce8dda-0081-452d-bdde-c9ea94bf9900",
   "metadata": {},
   "source": [
    "## Agent with Built-In Tools\n",
    "You can use Strands wide set of built-in tools: https://strandsagents.com/latest/user-guide/concepts/tools/example-tools-package/ to get started."
   ]
  },
  {
   "cell_type": "code",
   "execution_count": null,
   "id": "46821700-c2ce-4bc7-90cd-588eccb21117",
   "metadata": {},
   "outputs": [],
   "source": [
    "# built-in tools\n",
    "from strands_tools import calculator\n",
    "\n",
    "# Define Agent\n",
    "agent_built_in_tools = Agent(\n",
    "    model=model,\n",
    "    tools=[calculator]\n",
    ")"
   ]
  },
  {
   "cell_type": "code",
   "execution_count": null,
   "id": "76d5078c-3b44-43f7-b173-037890bd3e73",
   "metadata": {},
   "outputs": [],
   "source": [
    "output = agent_built_in_tools(\"What is the square root of 1764\")\n",
    "output"
   ]
  },
  {
   "cell_type": "markdown",
   "id": "d64b9e30-774b-4935-a5ba-ca3f0c015f93",
   "metadata": {},
   "source": [
    "## Custom Tool Sample\n",
    "Can define very easily with the tool decorator: https://strandsagents.com/latest/api-reference/tools/#strands.tools.decorator.tool. We can for example define a sample sentiment analysis function using a package such as transformers."
   ]
  },
  {
   "cell_type": "code",
   "execution_count": null,
   "id": "d744f516-b8f6-4e3f-95a5-3511b117c1a9",
   "metadata": {},
   "outputs": [],
   "source": [
    "from strands import tool\n",
    "\n",
    "from transformers import pipeline\n",
    "classifier = pipeline(\"sentiment-analysis\")\n",
    "\n",
    "# Custom Tool Sample\n",
    "@tool\n",
    "def sent_analyzer(inp_text: str) -> str:\n",
    "    sent_text = classifier(inp_text)\n",
    "    return sent_text[0]['label']"
   ]
  },
  {
   "cell_type": "code",
   "execution_count": null,
   "id": "0f044af6-9c19-459f-9bfe-f2b0e1e3c242",
   "metadata": {},
   "outputs": [],
   "source": [
    "# Define Agent with built-in and custom tools\n",
    "agent_custom_tools = Agent(\n",
    "    model=model,\n",
    "    tools=[calculator, sent_analyzer]\n",
    ")"
   ]
  },
  {
   "cell_type": "code",
   "execution_count": null,
   "id": "8dac555e-f556-4be8-b598-cb787cda875a",
   "metadata": {},
   "outputs": [],
   "source": [
    "custom_out = agent_custom_tools(\"Analyze the sentiment of the following text: I am super happy!\")\n",
    "custom_out"
   ]
  },
  {
   "cell_type": "code",
   "execution_count": null,
   "id": "130e075d-2ed2-4a1f-bac5-bf84c5077b6f",
   "metadata": {},
   "outputs": [],
   "source": [
    "out_2 = agent_custom_tools(\"Multiply 50 and 50\") # here we can see the calculator is still appropriately used\n",
    "out_2"
   ]
  }
 ],
 "metadata": {
  "kernelspec": {
   "display_name": "conda_python3",
   "language": "python",
   "name": "conda_python3"
  },
  "language_info": {
   "codemirror_mode": {
    "name": "ipython",
    "version": 3
   },
   "file_extension": ".py",
   "mimetype": "text/x-python",
   "name": "python",
   "nbconvert_exporter": "python",
   "pygments_lexer": "ipython3",
   "version": "3.10.17"
  }
 },
 "nbformat": 4,
 "nbformat_minor": 5
}
